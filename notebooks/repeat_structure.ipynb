{
 "cells": [
  {
   "cell_type": "code",
   "execution_count": null,
   "id": "eb8a7e61-4963-46b5-8174-17b4712a479e",
   "metadata": {
    "vscode": {
     "languageId": "r"
    }
   },
   "outputs": [],
   "source": [
    "require(ggplot2)\n",
    "require(gggenes)\n",
    "\n",
    "plotter <- function(name,var=\"gene\"){\n",
    "    x <- read.delim(paste0(name,\".tsv\"))\n",
    "    ggplot(x, aes(xmin=start, xmax=end, y=molecule, fill=get(var), forward=strand))\n",
    "    scale_y_discrete(limits = c(\"OBV_1\",\"OBV_2\",\"BSW_7\",\"EVO\",\"RGV\",\"BSW_1\",\"BSW_2\",\"BSW_3\",\"BSW_4\",\"BSW_5\",\"BSW_6\",\"BV_5\",\"BV_6\",\"OBV_3\",\"OBV_4\",\"BV_1\",\"BV_2\",\"BV_3\",\"BV_4\",\"HIG\",\"HER\",\"SIM_2\",\"SIM_3\",\"SIM_1\")) +\n",
    "    geom_gene_arrow(arrowhead_height = unit(2, \"mm\"), arrowhead_width = unit(1.25, \"mm\"),arrow_body_height=unit(1, \"mm\")) +\n",
    "    scale_fill_brewer(palette = \"Set3\") +\n",
    "    theme_genes() + \n",
    "    xlim(0,50000)\n",
    "    ggsave(paste0(name,\".svg\"), width = 50, height = 20, units = \"cm\")\n",
    "}\n",
    "\n",
    "plotter(\"repeats\")\n",
    "plotter(\"ChIP\")"
   ]
  }
 ],
 "metadata": {
  "kernelspec": {
   "display_name": "R",
   "language": "R",
   "name": "ir"
  },
  "language_info": {
   "codemirror_mode": "r",
   "file_extension": ".r",
   "mimetype": "text/x-r-source",
   "name": "R",
   "pygments_lexer": "r",
   "version": "4.2.3"
  }
 },
 "nbformat": 4,
 "nbformat_minor": 5
}
