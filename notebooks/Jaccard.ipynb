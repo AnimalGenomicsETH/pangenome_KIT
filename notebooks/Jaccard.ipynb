{
 "cells": [
  {
   "cell_type": "code",
   "execution_count": null,
   "id": "7e928768-ea9e-46de-aead-8d336aa8b3a7",
   "metadata": {},
   "outputs": [],
   "source": [
    "%matplotlib widget\n",
    "import polars as pl\n",
    "import matplotlib.pyplot as plt\n",
    "from qmplot import manhattanplot"
   ]
  },
  {
   "cell_type": "code",
   "execution_count": null,
   "id": "44988977-8133-4d4e-94cf-849a6e3a0b26",
   "metadata": {},
   "outputs": [],
   "source": [
    "def load_all_jaccard(chromosomes,min_paths=153):\n",
    "    return pl.concat([pl.read_csv(f'Jaccard/{c}.summary.1000.jaccard.csv') for c in chromosomes])\n",
    "df = load_all_jaccard(range(1,30))"
   ]
  },
  {
   "cell_type": "code",
   "execution_count": null,
   "id": "4c112faa-e371-418e-b1da-fdde6499aef2",
   "metadata": {
    "scrolled": true
   },
   "outputs": [],
   "source": [
    "xticks = list(map(str,range(1,10))) + list(map(str,range(10,30,2)))\n",
    "fancy_ratio = r\"$\\frac{\\langle J_{i = j} \\rangle}{\\langle J_{i \\neq j} \\rangle}$\"\n",
    "\n",
    "f, ax = plt.subplots(figsize=(7,2.75),layout=\"constrained\")\n",
    "axin1 = ax.inset_axes([0.6, 0.5, 0.35, 0.35])\n",
    "\n",
    "manhattanplot(data=df.filter(pl.col('count')<400).filter(pl.col('count')>200).sort(['Chromosome','Start']).to_pandas(),\n",
    "                   chrom='Chromosome',pos='Start',pv='Jaccard similarity ratio',ylabel='Jaccard similarity ratio',\n",
    "                   logp=False,rasterized=True,sign_marker_p=5,xtick_label_set=xticks,\n",
    "                   suggestiveline=None,genomewideline=5,\n",
    "                   sign_line_cols=[\"#37323E\", \"#37323E\"],hline_kws={'ls':'--'},\n",
    "                   sign_marker_color='#E90D13',color=\"#B8B8B8,#0DE9E3\",\n",
    "                   ax=ax)\n",
    "\n",
    "manhattanplot(data=df.filter((pl.col('Chromosome')==6)&(pl.col('Start')>70040000)&(pl.col('Start')<70130000)).sort(['Chromosome','Start']).to_pandas(),\n",
    "                   chrom='Chromosome',pos='Start',pv='Jaccard similarity ratio',ylabel='',\n",
    "                   logp=False,rasterized=True,sign_marker_p=5,xtick_label_set=xticks,\n",
    "                   suggestiveline=None,genomewideline=5,\n",
    "                   sign_line_cols=[\"#37323E\", \"#37323E\"],hline_kws={'ls':'--'},\n",
    "                   sign_marker_color='#E90D13',color=\"#0DE9E3,#B8B8B8\",ax=axin1)\n",
    "axin1.set_xlim(70040000, 70130000)\n",
    "axin1.set_xlabel('')"
   ]
  },
  {
   "cell_type": "code",
   "execution_count": null,
   "id": "f6ed7411-21ff-467d-81d8-453622dc0143",
   "metadata": {},
   "outputs": [],
   "source": [
    "plt.savefig('Figures/Jaccard.svg',dpi=500)"
   ]
  }
 ],
 "metadata": {
  "kernelspec": {
   "display_name": "Python 3 (ipykernel)",
   "language": "python",
   "name": "python3"
  },
  "language_info": {
   "codemirror_mode": {
    "name": "ipython",
    "version": 3
   },
   "file_extension": ".py",
   "mimetype": "text/x-python",
   "name": "python",
   "nbconvert_exporter": "python",
   "pygments_lexer": "ipython3",
   "version": "3.11.6"
  }
 },
 "nbformat": 4,
 "nbformat_minor": 5
}
