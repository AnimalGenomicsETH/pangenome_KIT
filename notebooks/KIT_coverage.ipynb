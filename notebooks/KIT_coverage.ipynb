{
 "cells": [
  {
   "cell_type": "code",
   "execution_count": null,
   "id": "e3541fed-4b31-4a30-87b4-6f0bb10ac150",
   "metadata": {},
   "outputs": [],
   "source": [
    "%matplotlib widget\n",
    "import pandas as pd\n",
    "import polars as pl\n",
    "import numpy as np\n",
    "\n",
    "import seaborn as sns\n",
    "import matplotlib.pyplot as plt\n",
    "import matplotlib.colors as colors\n",
    "\n",
    "from scipy.stats.mstats import kruskalwallis, mannwhitneyu\n",
    "import scikit_posthocs"
   ]
  },
  {
   "cell_type": "code",
   "execution_count": null,
   "id": "54e99c34-918b-47a8-89a3-6c3320edf0ed",
   "metadata": {},
   "outputs": [],
   "source": [
    "white_headed_breeds = ['cross','MON','NMD','SIM','FV','HER','GWH','YAR'] + ['cSIM','SxH','FLK','VWD','HWD','sHER','KWH']\n",
    "info = pl.read_csv('sample_information.csv',separator=' ')\n",
    "nodes = pl.read_csv('subgraph.nodes.csv',separator=' ')\n",
    "KIT_nodes = [int(i) for i in open('KIT_nodes')]\n",
    "coverage = (pl.read_csv('node_coverage.csv.gz',separator=' ')\n",
    "                  .join(info,on='sample')\n",
    "                  .join(nodes,on='node')\n",
    "                  .with_columns([pl.col('breed').is_in(white_headed_breeds).alias('White-headed'),pl.col('node').is_in(KIT_nodes).alias('KIT'),(pl.col('coverage')*pl.col('length')).alias('total coverage')])\n",
    "           )\n",
    "x_order = [i for i in coverage['breed'].unique() if i not in white_headed_breeds] + white_headed_breeds"
   ]
  },
  {
   "cell_type": "code",
   "execution_count": null,
   "id": "766fc527-7320-4b15-9515-06b7fa91c3d2",
   "metadata": {},
   "outputs": [],
   "source": [
    "averages_r = (coverage.filter((pl.col('length')>=0)&(pl.col('coverage')>=0))\n",
    "                      .group_by('sample','breed','KIT','coverage_right','duplication_rate')\n",
    "                      .agg(pl.col('total coverage').sum())\n",
    "                      .with_columns([(pl.col('total coverage')/(pl.col('coverage_right')*(1-pl.col('duplication_rate')))).alias('adjusted coverage')])\n",
    "                      .with_columns([(pl.col('adjusted coverage')/((14325*pl.col('KIT') + 2e6*(~pl.col('KIT'))))).alias('Length normalised coverage')])\n",
    "             )\n",
    "averages = averages_r.to_pandas()\n",
    "\n",
    "g = sns.catplot(data=averages,x='breed',y='Length normalised coverage',hue='breed',col='KIT',order=x_order)\n",
    "g.map(sns.boxplot,'breed','Length normalised coverage',order=x_order,**{'boxprops':{'facecolor':'none'}})\n",
    "g.set_xticklabels(rotation=45,ha='center')\n",
    "for ax in g.axes_dict.values():\n",
    "    ax.axline((0,1), slope=0, c=\".2\", ls=\"--\", zorder=0)"
   ]
  },
  {
   "cell_type": "code",
   "execution_count": null,
   "id": "e490da5f-f027-4007-a18c-7ff57350c81f",
   "metadata": {},
   "outputs": [],
   "source": [
    "p_matrix = scikit_posthocs.posthoc_mannwhitney(averages_r.filter(pl.col('KIT')).to_pandas(),'Length normalised coverage','breed',p_adjust='bonferroni')\n",
    "plt.figure()\n",
    "scikit_posthocs.sign_plot(p_matrix[x_order].reindex(index = x_order).to_numpy())\n",
    "\n",
    "f, ax = plt.subplots()\n",
    "\n",
    "p = ax.pcolormesh(p_matrix[x_order].reindex(index = x_order).to_numpy(),norm=colors.LogNorm(vmin=1e-10, vmax=1))\n",
    "f.colorbar(p)\n",
    "ax.set_yticks(np.arange(len(p_matrix.index))+0.5)\n",
    "ax.set_yticklabels(p_matrix.index)\n",
    "\n",
    "ax.set_xticks(np.arange(len(p_matrix.columns))+0.5)\n",
    "\n",
    "ax.set_xticklabels(p_matrix.columns,rotation=45,ha='center')\n",
    "\n",
    "plt.show()"
   ]
  },
  {
   "cell_type": "code",
   "execution_count": null,
   "id": "7ca9722d-ce84-4e5e-a1ae-35ce996c4643",
   "metadata": {},
   "outputs": [],
   "source": [
    "def map_rolling(data,x,y,color,**kws):\n",
    "    ax = plt.gca()\n",
    "    ax.plot(data[x],data[y].rolling(10).mean(),color=color)\n",
    "\n",
    "def label(x, color, label):\n",
    "    ax = plt.gca() #get current axis\n",
    "    ax.text(-.1, .4, label, color='black', fontsize=13,\n",
    "            ha=\"left\", va=\"center\", transform=ax.transAxes)"
   ]
  },
  {
   "cell_type": "code",
   "execution_count": null,
   "id": "22a14c44-5aa7-4014-9e17-659962e82814",
   "metadata": {},
   "outputs": [],
   "source": [
    "## rolling node plot\n",
    "\n",
    "means = (coverage.filter((pl.col('KIT'))&(pl.col('length')>=0)&(pl.col('coverage')>=0))\n",
    "                      .with_columns([(pl.col('coverage')/((pl.col('coverage_right')*(1-pl.col('duplication_rate'))))).alias('adjusted coverage')])\n",
    "                      .group_by('breed','node')\n",
    "                      .agg(pl.col('adjusted coverage').median(),pl.col('length').median())\n",
    "                      .sort(by='node')\n",
    "             ).to_pandas()\n",
    "\n",
    "g = sns.FacetGrid(means, hue='breed',height=.75,aspect=10,row=\"breed\",row_order=x_order)\n",
    "g.map_dataframe(map_rolling,x='node',y='adjusted coverage')\n",
    "#g.refline(y=0, linewidth=0.5, linestyle=\"-\", color=None, clip_on=False)\n",
    "g.figure.subplots_adjust(hspace=-5.75)\n",
    "g.set_titles(\"\")\n",
    "g.map(label, \"breed\")\n",
    "g.set(yticks=[], ylabel=\"\")\n",
    "g.despine(bottom=False, left=True)"
   ]
  },
  {
   "cell_type": "code",
   "execution_count": null,
   "id": "112d0c37-fadd-47b2-a7b6-f4c3a6599d9c",
   "metadata": {},
   "outputs": [],
   "source": [
    "### Sample outlier detection\n",
    "\n",
    "## Weird FV sample\n",
    "print(averages[(averages['coverage']>0.90)&(averages['KIT']==False)&(averages['breed']=='FV')])\n",
    "\n",
    "\n",
    "## removing bad CHI/CHA samples with large insert sizes and stddev\n",
    "bad_inserts = ['UMCUSAU000000194426','UMCUSAU000000194423','UMCUSAU000000194424','UMCUSAU000000194748','UMCUSAU000000194761','UMCUSAU000000194425','UMCUSAU000000194370']\n",
    "print(averages[(averages['coverage']<0.25)&(averages['KIT']==False)&(averages['sample'].isin(bad_inserts))])\n",
    "\n",
    "\n",
    "## Potentially a mislabelling for SAMEA7690196\n",
    "print(averages[(averages['coverage']>0.60)&(averages['KIT']==True)&(averages['breed']=='CHI')])\n",
    "\n",
    "## same as first weird FV sample\n",
    "print(averages[(averages['coverage']>1.60)&(averages['KIT']==True)&(averages['breed']=='FV')])\n",
    "\n",
    "print(averages[(averages['coverage']>2.00)&(averages['KIT']==True)&(averages['breed']=='SIM')])\n",
    "\n",
    "print(averages[(averages['coverage']<.20)&(averages['KIT']==True)&(averages['breed']=='NMD')])\n",
    "\n",
    "print(averages[(averages['coverage']>4.5)&(averages['KIT']==True)&(averages['breed']=='HER')])"
   ]
  },
  {
   "cell_type": "code",
   "execution_count": null,
   "id": "483dc91c-e3f9-47a7-8ad5-f641756392c8",
   "metadata": {},
   "outputs": [],
   "source": [
    "## DEAD CODE\n",
    "averages = coverage.filter((pl.col('length')>=0)&(pl.col('coverage')>=0)).group_by('sample','breed','KIT','coverage_right','duplication_rate').agg(pl.col('coverage').mean()).to_pandas()\n",
    "averages['coverage']/=(averages['coverage_right']*(1-averages['duplication_rate']))\n",
    "g = sns.catplot(data=averages,x='breed',y='coverage',hue='breed',col='KIT',order=x_order)\n",
    "g.map(sns.boxplot,'breed','coverage',order=x_order,**{'boxprops':{'facecolor':'none'}})\n",
    "g.set_xticklabels(rotation=45,ha='center')\n",
    "\n",
    "\n",
    "averages = coverage.group_by('node','breed','KIT','coverage_right','duplication_rate').agg(pl.col('coverage').mean()).to_pandas()\n",
    "averages['coverage']/=(averages['coverage_right']*(1-averages['duplication_rate']))\n",
    "sns.lmplot(data=means[means['cov']>0.05],x='node',y='cov',hue='breed',col='breed',col_order=x_order,col_wrap=3,lowess=True,scatter_kws={'s':20})\n",
    "sns.catplot(data=x,kind='point',x='node',y='adjusted coverage',hue='breed',col='breed',col_order=x_order,col_wrap=3)\n",
    "\n",
    "import statsmodels.api as sm\n",
    "lowess = sm.nonparametric.lowess\n",
    "from scipy.interpolate import splev, splrep, UnivariateSpline\n",
    "\n",
    "def map_lowess(data,x,y,color):\n",
    "    spl = UnivariateSpline(list(data['node']), list(data['cov']),w=np.sqrt(data['length']),s=0)#,s=5e3)\n",
    "    y2 = spl(data['node'])\n",
    "    ax = plt.gca()\n",
    "    ax.plot(data[x],y2)\n",
    "    \n",
    "    (averages_r.filter(pl.col('KIT')).groupby(\"breed\")\n",
    "        .agg(krusk=pl.reduce(kruskalwallis,('adjusted coverage')))\n",
    ")"
   ]
  }
 ],
 "metadata": {
  "kernelspec": {
   "display_name": "Python 3 (ipykernel)",
   "language": "python",
   "name": "python3"
  },
  "language_info": {
   "codemirror_mode": {
    "name": "ipython",
    "version": 3
   },
   "file_extension": ".py",
   "mimetype": "text/x-python",
   "name": "python",
   "nbconvert_exporter": "python",
   "pygments_lexer": "ipython3",
   "version": "3.11.6"
  }
 },
 "nbformat": 4,
 "nbformat_minor": 5
}
