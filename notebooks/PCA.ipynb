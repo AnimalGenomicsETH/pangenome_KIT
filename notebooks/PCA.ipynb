{
 "cells": [
  {
   "cell_type": "code",
   "execution_count": null,
   "id": "72b35fdf-19d3-4da6-abb7-025a9ef4879d",
   "metadata": {},
   "outputs": [],
   "source": [
    "%matplotlib widget\n",
    "\n",
    "import matplotlib.pyplot as plt\n",
    "import seaborn as sns\n",
    "import pandas as pd"
   ]
  },
  {
   "cell_type": "code",
   "execution_count": null,
   "id": "03d6888b-25f7-4279-acba-ffdee96a8682",
   "metadata": {},
   "outputs": [],
   "source": [
    "def plot_PCAs(hues=None):\n",
    "    expected_white = ['HER','SIM','FV','GWH','MON','NMD','YAR','cross'] +  ['cSIM','SxH','FLK','VWD','HWD','sHER','KWH']\n",
    "    SNPs = pd.read_csv('PCA/control.eigenvec',delimiter='\\t')\n",
    "    SNPs_var = [float(i.rstrip()) for i in open('PCA/control.eigenval')]\n",
    "\n",
    "    SNPs[SNPs['#IID']!='BSW_5|BSW_6']\n",
    "    \n",
    "    breeds = pd.read_csv('20231130/sample_information.ARS.csv',delimiter=' ')\n",
    "    breeds_map = {row['sample']:row['breed'] for _,row in breeds.iterrows()}\n",
    "\n",
    "    SNPs['breed'] = [breeds_map[I] for I in SNPs['#IID']]\n",
    "    SNPs['Grouping'] = ['white' if B in expected_white else ('cross' if 'cross' in B else 'colored') for B in SNPs['breed']]\n",
    "    \n",
    "    f, axes = plt.subplots(figsize=(8,8))\n",
    "    sns.scatterplot(data=SNPs,x='PC1',y='PC2',ax=axes,hue='breed',hue_order=hues,style='Grouping',palette='tab20',markers={'white':'o','colored':'X','cross':'P'})\n",
    "\n",
    "    axes.set_title(f'Small variants (Top 10 PCs: {sum(SNPs_var):.1f}%)')\n",
    "    axes.set_xlabel(f'PC 1 ({SNPs_var[0]:.1f}%)')\n",
    "    axes.set_ylabel(f'PC 2 ({SNPs_var[4]:.1f}%)')\n",
    "\n",
    "    f.tight_layout()"
   ]
  },
  {
   "cell_type": "code",
   "execution_count": null,
   "id": "36d35457-8ee9-4487-aba3-a1a180c99835",
   "metadata": {},
   "outputs": [],
   "source": [
    "plot_PCAs()"
   ]
  }
 ],
 "metadata": {
  "kernelspec": {
   "display_name": "Python 3 (ipykernel)",
   "language": "python",
   "name": "python3"
  },
  "language_info": {
   "codemirror_mode": {
    "name": "ipython",
    "version": 3
   },
   "file_extension": ".py",
   "mimetype": "text/x-python",
   "name": "python",
   "nbconvert_exporter": "python",
   "pygments_lexer": "ipython3",
   "version": "3.11.6"
  }
 },
 "nbformat": 4,
 "nbformat_minor": 5
}
